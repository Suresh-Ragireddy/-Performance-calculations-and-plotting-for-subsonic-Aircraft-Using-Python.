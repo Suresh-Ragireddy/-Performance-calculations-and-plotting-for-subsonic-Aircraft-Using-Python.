{
 "cells": [
  {
   "cell_type": "code",
   "execution_count": 12,
   "metadata": {},
   "outputs": [],
   "source": [
    "import math\n",
    "w=580506.8\n",
    "s=111.63 # wing span area M^2\n",
    "clmax=2.7 #flaps on\n",
    "CD0=0.0159\n",
    "K=0.04244\n",
    "K1=0.41065\n",
    "K2=-0.3078# see negative value is there\n",
    "g=9.81\n",
    "rho=1.225 #sealevel landing condition kg/m^3\n",
    "a =340   #speed of sound at sea level\n",
    "\n",
    "TSV= (2*97900) #static thrust at sea level in newtons\n",
    "mu1=0.04  # friction of road for takeoff\n",
    "mu2=0.4 # for landing \n",
    "Kuc1=4.5e-5  # for moderate flap setting use in takeoff\n",
    "KUc2=3.16e-5 # for landing flap setting\n",
    "b=32.22 # wing span in meters\n",
    "h=11.17 # wing heigth above ground in meters\n",
    "AR=9.3 # aspect ratio\n",
    "e=0.8064 \n",
    "CL=0.1 # assumed value for takeoff\n",
    "\n",
    "Theta_a1=3 #in degress # approach angle\n",
    "theta_a=((3*math.pi)/180)"
   ]
  },
  {
   "cell_type": "code",
   "execution_count": 25,
   "metadata": {},
   "outputs": [],
   "source": [
    "wbys=w/s # weigth by span ratio\n",
    "\n",
    "# vstall caluation\n",
    "vstall=((2*wbys)/(rho*clmax))**(0.5)\n",
    "\n",
    "\n",
    "# flare velcity\n",
    "VF=1.23*vstall\n",
    "\n",
    "#VTD touch down velocity\n",
    "\n",
    "VTD=1.15*vstall\n",
    "\n",
    "#R\n",
    "R=(VF**2)/(0.2*g)\n",
    "\n",
    "hf=R*(1-math.cos(theta_a))\n",
    "\n",
    "#50 feet is 15 meters\n",
    "                  \n",
    "#airbrone distance\n",
    "sa=((15-hf)/math.tan(theta_a)) \n",
    "#flare distance\n",
    "\n",
    "sf=R*math.sin(theta_a)\n",
    "\n",
    "\n",
    "\n",
    "\n",
    "#DELTHA cd0\n",
    "m=w/g\n",
    "delthaCD0=wbys*KUc2*(m**(-0.215))\n",
    "\n",
    "# GRound effect calculuation\n",
    "a1=(16*(h/b))**2\n",
    "\n",
    "G=a1/(1+a1)\n",
    "# constants 2 in landing formula\n",
    "\n",
    "JA=((K+(G/(3.14*e*AR)))*CL**2-(mu2*CL)+CD0+delthaCD0)*(rho/(2*wbys))\n",
    "\n",
    "# constants 1 in landing formula\n",
    "\n",
    "JT=mu2\n",
    "#ground roll\n",
    "a2=math.log(1+(JA/JT)*VTD**2)\n",
    "a3=1/(2*g*JA)\n",
    "sg1=a2*a3\n",
    "\n",
    "#sg1 take N=3 seconds\n",
    "N=3\n",
    "sg2=N*VTD\n",
    "\n",
    "sg=sg1+sg2\n",
    "\n"
   ]
  },
  {
   "cell_type": "code",
   "execution_count": 26,
   "metadata": {},
   "outputs": [],
   "source": [
    "Total_landing_distance=sa+sf+sg"
   ]
  },
  {
   "cell_type": "code",
   "execution_count": 27,
   "metadata": {},
   "outputs": [
    {
     "data": {
      "text/plain": [
       "1075.6158693163015"
      ]
     },
     "execution_count": 27,
     "metadata": {},
     "output_type": "execute_result"
    }
   ],
   "source": [
    "Total_landing_distance"
   ]
  },
  {
   "cell_type": "code",
   "execution_count": null,
   "metadata": {},
   "outputs": [],
   "source": []
  }
 ],
 "metadata": {
  "kernelspec": {
   "display_name": "Python 3",
   "language": "python",
   "name": "python3"
  },
  "language_info": {
   "codemirror_mode": {
    "name": "ipython",
    "version": 3
   },
   "file_extension": ".py",
   "mimetype": "text/x-python",
   "name": "python",
   "nbconvert_exporter": "python",
   "pygments_lexer": "ipython3",
   "version": "3.8.5"
  }
 },
 "nbformat": 4,
 "nbformat_minor": 4
}
