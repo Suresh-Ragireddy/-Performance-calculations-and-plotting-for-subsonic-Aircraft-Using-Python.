{
 "cells": [
  {
   "cell_type": "code",
   "execution_count": 35,
   "metadata": {},
   "outputs": [],
   "source": [
    "import math\n",
    "w=580506.8\n",
    "s=111.63 # wing span area M^2\n",
    "clmax=2.7 #flaps on\n",
    "CD0=0.0159\n",
    "K=0.04244\n",
    "K1=0.41065\n",
    "K2=-0.3078# see negative value is there\n",
    "g=9.81\n",
    "rho=1.225 #sealevel takeoff condition kg/m^3\n",
    "a =340   #speed of sound at sea level\n",
    "\n",
    "TSV= (2*97900) #static thrust at sea level in newtons\n",
    "mu1=0.04  # friction of road for takeoff\n",
    "Kuc1=4.5e-5  # for moderate flap setting use in takeoff\n",
    "b=32.22 # wing span in meters\n",
    "h=11.17 # wing heigth above ground in meters\n",
    "AR=9.3 # aspect ratio\n",
    "e=0.8064 \n",
    "CL=0.1 # assumed value for takeoff"
   ]
  },
  {
   "cell_type": "code",
   "execution_count": 56,
   "metadata": {},
   "outputs": [],
   "source": [
    "wbys=w/s # weigth by span ratio\n",
    "\n",
    "# vstall caluation\n",
    "vstall=((2*wbys)/(rho*clmax))**(0.5)\n",
    "\n",
    "\n",
    "# VLO caluculation\n",
    "VLO=1.1*vstall\n",
    "\n",
    "# free stream velocity\n",
    "V=0.7*VLO\n",
    "\n",
    "#mach number\n",
    "M=V/a\n",
    "\n",
    "#thrust at 0.7VLO \n",
    "\n",
    "T=TSV*K1*(M**K2)\n",
    "\n",
    "# T /w ratio\n",
    "\n",
    "Tbyw=T/w\n",
    "\n",
    "# constants 1 in takeoff formula\n",
    "KT=Tbyw-mu1\n",
    "\n",
    "#DELTHA cd0\n",
    "m=w/g\n",
    "\n",
    "delthaCD0=wbys*Kuc1*(m**(-0.215))\n",
    "\n",
    "# GRound effect calculuation\n",
    "a1=(16*(h/b))**2\n",
    "\n",
    "G=a1/(1+a1)\n",
    "\n",
    "# constants 2 in takeoff formula\n",
    "\n",
    "KA=((K+(G/(3.14*e*AR)))*CL**2-(mu1*CL)+CD0+delthaCD0)*(-rho/(2*wbys))\n",
    "\n",
    "\n",
    "#ground roll\n",
    "\n",
    "a2=math.log(1+(KA/KT)*VLO**2)\n",
    "a3=1/(2*g*KA)\n",
    "sg1=a2*a3\n",
    "\n",
    "#sg1 take N=3 seconds\n",
    "N=3\n",
    "sg2=N*VLO\n",
    "\n",
    "sg=sg1+sg2\n",
    "\n",
    "# calculation of distance coverd by air borne\n",
    "\n",
    "R=(6.96*vstall**2)/g\n",
    "\n",
    "# 35 feet to meters 10.668\n",
    "hob=10.668\n",
    "a4=(1-(hob/R))\n",
    "theta1=math.acos(a4)\n",
    "theta=theta1*180/math.pi\n",
    "\n",
    "#distance of airbrone\n",
    "\n",
    "sa=R*math.sin(theta1)\n",
    "\n",
    "\n",
    "#total takeoff distance\n",
    "Total_Takeoff_distance=sg+sa"
   ]
  },
  {
   "cell_type": "code",
   "execution_count": 59,
   "metadata": {},
   "outputs": [
    {
     "data": {
      "text/plain": [
       "1311.1800866369244"
      ]
     },
     "execution_count": 59,
     "metadata": {},
     "output_type": "execute_result"
    }
   ],
   "source": [
    "Total_Takeoff_distance"
   ]
  },
  {
   "cell_type": "code",
   "execution_count": null,
   "metadata": {},
   "outputs": [],
   "source": []
  }
 ],
 "metadata": {
  "kernelspec": {
   "display_name": "Python 3",
   "language": "python",
   "name": "python3"
  },
  "language_info": {
   "codemirror_mode": {
    "name": "ipython",
    "version": 3
   },
   "file_extension": ".py",
   "mimetype": "text/x-python",
   "name": "python",
   "nbconvert_exporter": "python",
   "pygments_lexer": "ipython3",
   "version": "3.8.5"
  }
 },
 "nbformat": 4,
 "nbformat_minor": 4
}
